{
  "cells": [
    {
      "cell_type": "code",
      "execution_count": null,
      "id": "bcfb2ff3",
      "metadata": {
        "id": "bcfb2ff3"
      },
      "outputs": [],
      "source": [
        "# Importing essential libraries\n",
        "import numpy as np\n",
        "import pandas as pd"
      ]
    },
    {
      "cell_type": "markdown",
      "id": "938cbb55",
      "metadata": {
        "id": "938cbb55"
      },
      "source": [
        "# LOAD DATA"
      ]
    },
    {
      "cell_type": "code",
      "execution_count": null,
      "id": "d7b800af",
      "metadata": {
        "id": "d7b800af"
      },
      "outputs": [],
      "source": [
        "# Loading the dataset\n",
        "df = pd.read_csv(\"kaggle_movie_train.csv\")"
      ]
    },
    {
      "cell_type": "markdown",
      "id": "fd6d15e9",
      "metadata": {
        "id": "fd6d15e9"
      },
      "source": [
        "# EXPLORE DATA"
      ]
    },
    {
      "cell_type": "code",
      "execution_count": null,
      "id": "89745acf",
      "metadata": {
        "id": "89745acf",
        "outputId": "956893d8-3936-4938-863e-31b6e218e2a0"
      },
      "outputs": [
        {
          "data": {
            "text/plain": [
              "Index(['id', 'text', 'genre'], dtype='object')"
            ]
          },
          "execution_count": 3,
          "metadata": {},
          "output_type": "execute_result"
        }
      ],
      "source": [
        "df.columns"
      ]
    },
    {
      "cell_type": "code",
      "execution_count": null,
      "id": "ee191457",
      "metadata": {
        "id": "ee191457",
        "outputId": "012c6315-04b5-459a-e663-fd1bc2c5cfc4"
      },
      "outputs": [
        {
          "data": {
            "text/plain": [
              "(22579, 3)"
            ]
          },
          "execution_count": 4,
          "metadata": {},
          "output_type": "execute_result"
        }
      ],
      "source": [
        "df.shape"
      ]
    },
    {
      "cell_type": "code",
      "execution_count": null,
      "id": "02a19076",
      "metadata": {
        "id": "02a19076",
        "outputId": "1c0b4764-0f3f-492d-aa26-743bd3f57e0a"
      },
      "outputs": [
        {
          "data": {
            "text/html": [
              "<div>\n",
              "<style scoped>\n",
              "    .dataframe tbody tr th:only-of-type {\n",
              "        vertical-align: middle;\n",
              "    }\n",
              "\n",
              "    .dataframe tbody tr th {\n",
              "        vertical-align: top;\n",
              "    }\n",
              "\n",
              "    .dataframe thead th {\n",
              "        text-align: right;\n",
              "    }\n",
              "</style>\n",
              "<table border=\"1\" class=\"dataframe\">\n",
              "  <thead>\n",
              "    <tr style=\"text-align: right;\">\n",
              "      <th></th>\n",
              "      <th>id</th>\n",
              "      <th>text</th>\n",
              "      <th>genre</th>\n",
              "    </tr>\n",
              "  </thead>\n",
              "  <tbody>\n",
              "    <tr>\n",
              "      <th>0</th>\n",
              "      <td>0</td>\n",
              "      <td>eady dead, maybe even wishing he was. INT. 2ND...</td>\n",
              "      <td>thriller</td>\n",
              "    </tr>\n",
              "    <tr>\n",
              "      <th>1</th>\n",
              "      <td>2</td>\n",
              "      <td>t, summa cum laude and all. And I'm about to l...</td>\n",
              "      <td>comedy</td>\n",
              "    </tr>\n",
              "    <tr>\n",
              "      <th>2</th>\n",
              "      <td>3</td>\n",
              "      <td>up Come, I have a surprise.... She takes him ...</td>\n",
              "      <td>drama</td>\n",
              "    </tr>\n",
              "    <tr>\n",
              "      <th>3</th>\n",
              "      <td>4</td>\n",
              "      <td>ded by the two detectives. INT. JEFF'S APARTME...</td>\n",
              "      <td>thriller</td>\n",
              "    </tr>\n",
              "    <tr>\n",
              "      <th>4</th>\n",
              "      <td>5</td>\n",
              "      <td>nd dismounts, just as the other children reach...</td>\n",
              "      <td>drama</td>\n",
              "    </tr>\n",
              "    <tr>\n",
              "      <th>...</th>\n",
              "      <td>...</td>\n",
              "      <td>...</td>\n",
              "      <td>...</td>\n",
              "    </tr>\n",
              "    <tr>\n",
              "      <th>4995</th>\n",
              "      <td>6256</td>\n",
              "      <td>BED NIGHT Brian and Jennifer are into the rhy...</td>\n",
              "      <td>drama</td>\n",
              "    </tr>\n",
              "    <tr>\n",
              "      <th>4996</th>\n",
              "      <td>6257</td>\n",
              "      <td>s shimmering engaging its cloak. 112 INT. ENTE...</td>\n",
              "      <td>thriller</td>\n",
              "    </tr>\n",
              "    <tr>\n",
              "      <th>4997</th>\n",
              "      <td>6258</td>\n",
              "      <td>R. FELDMAN I can't wait to take a look. he cla...</td>\n",
              "      <td>drama</td>\n",
              "    </tr>\n",
              "    <tr>\n",
              "      <th>4998</th>\n",
              "      <td>6259</td>\n",
              "      <td>etal folding chairs. Michael, who sits next to...</td>\n",
              "      <td>other</td>\n",
              "    </tr>\n",
              "    <tr>\n",
              "      <th>4999</th>\n",
              "      <td>6261</td>\n",
              "      <td>d MIGUEL'S SEVERED FOREARM. IT PULLS A BIG CHU...</td>\n",
              "      <td>sci-fi</td>\n",
              "    </tr>\n",
              "  </tbody>\n",
              "</table>\n",
              "<p>5000 rows × 3 columns</p>\n",
              "</div>"
            ],
            "text/plain": [
              "        id                                               text     genre\n",
              "0        0  eady dead, maybe even wishing he was. INT. 2ND...  thriller\n",
              "1        2  t, summa cum laude and all. And I'm about to l...    comedy\n",
              "2        3   up Come, I have a surprise.... She takes him ...     drama\n",
              "3        4  ded by the two detectives. INT. JEFF'S APARTME...  thriller\n",
              "4        5  nd dismounts, just as the other children reach...     drama\n",
              "...    ...                                                ...       ...\n",
              "4995  6256   BED NIGHT Brian and Jennifer are into the rhy...     drama\n",
              "4996  6257  s shimmering engaging its cloak. 112 INT. ENTE...  thriller\n",
              "4997  6258  R. FELDMAN I can't wait to take a look. he cla...     drama\n",
              "4998  6259  etal folding chairs. Michael, who sits next to...     other\n",
              "4999  6261  d MIGUEL'S SEVERED FOREARM. IT PULLS A BIG CHU...    sci-fi\n",
              "\n",
              "[5000 rows x 3 columns]"
            ]
          },
          "execution_count": 5,
          "metadata": {},
          "output_type": "execute_result"
        }
      ],
      "source": [
        "movies_train = df.head(5000)\n",
        "movies_train"
      ]
    },
    {
      "cell_type": "code",
      "execution_count": null,
      "id": "e8e9179b",
      "metadata": {
        "id": "e8e9179b"
      },
      "outputs": [],
      "source": [
        "# Importing essential libraries for visualization\n",
        "import matplotlib.pyplot as plt\n",
        "import seaborn as sns\n",
        "%matplotlib inline"
      ]
    },
    {
      "cell_type": "code",
      "execution_count": null,
      "id": "bb6e6ab7",
      "metadata": {
        "id": "bb6e6ab7",
        "outputId": "2d21fd9b-31a5-4cf9-e0d5-edba5943da81"
      },
      "outputs": [
        {
          "data": {
            "image/png": "[encoded data removed]",
            "text/plain": [
              "<Figure size 864x864 with 1 Axes>"
            ]
          },
          "metadata": {
            "needs_background": "light"
          },
          "output_type": "display_data"
        }
      ],
      "source": [
        "# Visualizing the count of 'genre' column from the dataset\n",
        "plt.figure(figsize=(12,12))\n",
        "sns.countplot(x='genre', data=movies_train)\n",
        "plt.xlabel('Movie Genres')\n",
        "plt.ylabel('Count')\n",
        "plt.title('Genre Plot')\n",
        "plt.show()"
      ]
    },
    {
      "cell_type": "markdown",
      "id": "0434e9b9",
      "metadata": {
        "id": "0434e9b9"
      },
      "source": [
        "# DATA CLEANING AND PREPROCESSING"
      ]
    },
    {
      "cell_type": "code",
      "execution_count": null,
      "id": "1ff3e803",
      "metadata": {
        "id": "1ff3e803",
        "outputId": "699b460c-4d7c-45e2-fada-fe0120f3310a"
      },
      "outputs": [
        {
          "data": {
            "text/plain": [
              "['action',\n",
              " 'adventure',\n",
              " 'comedy',\n",
              " 'drama',\n",
              " 'horror',\n",
              " 'other',\n",
              " 'romance',\n",
              " 'sci-fi',\n",
              " 'thriller']"
            ]
          },
          "execution_count": 8,
          "metadata": {},
          "output_type": "execute_result"
        }
      ],
      "source": [
        "# Finding unique genres\n",
        "movie_genre = list(movies_train['genre'].unique())\n",
        "movie_genre.sort()\n",
        "movie_genre"
      ]
    },
    {
      "cell_type": "code",
      "execution_count": null,
      "id": "94280b2c",
      "metadata": {
        "id": "94280b2c",
        "outputId": "31017fca-268c-4fa4-bc00-f649fbf68dcd"
      },
      "outputs": [
        {
          "name": "stderr",
          "output_type": "stream",
          "text": [
            "<ipython-input-9-65a3469504dd>:3: SettingWithCopyWarning: \n",
            "A value is trying to be set on a copy of a slice from a DataFrame.\n",
            "Try using .loc[row_indexer,col_indexer] = value instead\n",
            "\n",
            "See the caveats in the documentation: https://pandas.pydata.org/pandas-docs/stable/user_guide/indexing.html#returning-a-view-versus-a-copy\n",
            "  movies_train['genre'] = movies_train['genre'].map(genre_mapper)\n"
          ]
        },
        {
          "data": {
            "text/html": [
              "<div>\n",
              "<style scoped>\n",
              "    .dataframe tbody tr th:only-of-type {\n",
              "        vertical-align: middle;\n",
              "    }\n",
              "\n",
              "    .dataframe tbody tr th {\n",
              "        vertical-align: top;\n",
              "    }\n",
              "\n",
              "    .dataframe thead th {\n",
              "        text-align: right;\n",
              "    }\n",
              "</style>\n",
              "<table border=\"1\" class=\"dataframe\">\n",
              "  <thead>\n",
              "    <tr style=\"text-align: right;\">\n",
              "      <th></th>\n",
              "      <th>id</th>\n",
              "      <th>text</th>\n",
              "      <th>genre</th>\n",
              "    </tr>\n",
              "  </thead>\n",
              "  <tbody>\n",
              "    <tr>\n",
              "      <th>0</th>\n",
              "      <td>0</td>\n",
              "      <td>eady dead, maybe even wishing he was. INT. 2ND...</td>\n",
              "      <td>8</td>\n",
              "    </tr>\n",
              "    <tr>\n",
              "      <th>1</th>\n",
              "      <td>2</td>\n",
              "      <td>t, summa cum laude and all. And I'm about to l...</td>\n",
              "      <td>3</td>\n",
              "    </tr>\n",
              "    <tr>\n",
              "      <th>2</th>\n",
              "      <td>3</td>\n",
              "      <td>up Come, I have a surprise.... She takes him ...</td>\n",
              "      <td>4</td>\n",
              "    </tr>\n",
              "    <tr>\n",
              "      <th>3</th>\n",
              "      <td>4</td>\n",
              "      <td>ded by the two detectives. INT. JEFF'S APARTME...</td>\n",
              "      <td>8</td>\n",
              "    </tr>\n",
              "    <tr>\n",
              "      <th>4</th>\n",
              "      <td>5</td>\n",
              "      <td>nd dismounts, just as the other children reach...</td>\n",
              "      <td>4</td>\n",
              "    </tr>\n",
              "    <tr>\n",
              "      <th>5</th>\n",
              "      <td>6</td>\n",
              "      <td>breadth of the bluff. Gabe pulls out his ancie...</td>\n",
              "      <td>8</td>\n",
              "    </tr>\n",
              "    <tr>\n",
              "      <th>6</th>\n",
              "      <td>7</td>\n",
              "      <td>uilding. A MAN in pajamas runs out into the ra...</td>\n",
              "      <td>8</td>\n",
              "    </tr>\n",
              "    <tr>\n",
              "      <th>7</th>\n",
              "      <td>9</td>\n",
              "      <td>ELLES AND RITA HAYWORTH Just disgustingly rich...</td>\n",
              "      <td>4</td>\n",
              "    </tr>\n",
              "    <tr>\n",
              "      <th>8</th>\n",
              "      <td>10</td>\n",
              "      <td>Memphis goes back into the garage, Budgy cack...</td>\n",
              "      <td>8</td>\n",
              "    </tr>\n",
              "    <tr>\n",
              "      <th>9</th>\n",
              "      <td>11</td>\n",
              "      <td>e reels as the world spins. Sweat pours off hi...</td>\n",
              "      <td>1</td>\n",
              "    </tr>\n",
              "  </tbody>\n",
              "</table>\n",
              "</div>"
            ],
            "text/plain": [
              "   id                                               text  genre\n",
              "0   0  eady dead, maybe even wishing he was. INT. 2ND...      8\n",
              "1   2  t, summa cum laude and all. And I'm about to l...      3\n",
              "2   3   up Come, I have a surprise.... She takes him ...      4\n",
              "3   4  ded by the two detectives. INT. JEFF'S APARTME...      8\n",
              "4   5  nd dismounts, just as the other children reach...      4\n",
              "5   6  breadth of the bluff. Gabe pulls out his ancie...      8\n",
              "6   7  uilding. A MAN in pajamas runs out into the ra...      8\n",
              "7   9  ELLES AND RITA HAYWORTH Just disgustingly rich...      4\n",
              "8  10   Memphis goes back into the garage, Budgy cack...      8\n",
              "9  11  e reels as the world spins. Sweat pours off hi...      1"
            ]
          },
          "execution_count": 9,
          "metadata": {},
          "output_type": "execute_result"
        }
      ],
      "source": [
        "# Mapping the genres to values\n",
        "genre_mapper = {'other': 0, 'action': 1, 'adventure': 2, 'comedy':3, 'drama':4, 'horror':5, 'romance':6, 'sci-fi':7, 'thriller': 8}\n",
        "movies_train['genre'] = movies_train['genre'].map(genre_mapper)\n",
        "movies_train.head(10)"
      ]
    },
    {
      "cell_type": "code",
      "execution_count": null,
      "id": "60e83aee",
      "metadata": {
        "id": "60e83aee",
        "outputId": "09500827-2365-4626-8629-3a703b3fb876"
      },
      "outputs": [
        {
          "data": {
            "text/plain": [
              "id       False\n",
              "text     False\n",
              "genre    False\n",
              "dtype: bool"
            ]
          },
          "execution_count": 10,
          "metadata": {},
          "output_type": "execute_result"
        }
      ],
      "source": [
        "# Finding any NaN values\n",
        "movies_train.isna().any()"
      ]
    },
    {
      "cell_type": "code",
      "execution_count": null,
      "id": "10c608e8",
      "metadata": {
        "id": "10c608e8"
      },
      "outputs": [],
      "source": [
        "# Importing essential libraries for performing Natural Language Processing on given dataset\n",
        "import nltk\n",
        "import re\n",
        "from nltk.corpus import stopwords\n",
        "from nltk.stem.porter import PorterStemmer"
      ]
    },
    {
      "cell_type": "code",
      "execution_count": null,
      "id": "79bc8707",
      "metadata": {
        "id": "79bc8707",
        "outputId": "3d7038fe-c249-4217-9730-7332fd706ee6"
      },
      "outputs": [
        {
          "data": {
            "text/plain": [
              "(5000, 3)"
            ]
          },
          "execution_count": 12,
          "metadata": {},
          "output_type": "execute_result"
        }
      ],
      "source": [
        "movies_train.shape"
      ]
    },
    {
      "cell_type": "code",
      "execution_count": null,
      "id": "6f503127",
      "metadata": {
        "id": "6f503127"
      },
      "outputs": [],
      "source": [
        "# Cleaning the text\n",
        "corpus = []\n",
        "ps = PorterStemmer()\n",
        "\n",
        "for i in range(0, movies_train.shape[0]):\n",
        "\n",
        "  # Cleaning special character from the dialog/script\n",
        "  all_text = re.sub(pattern='[^a-zA-Z]', repl=' ', string=movies_train['text'][i])\n",
        "\n",
        "  # Converting the entire dialog/script into lower case\n",
        "  all_text = all_text.lower()\n",
        "\n",
        "  # Tokenizing the dialog/script by words\n",
        "  words = all_text.split()\n",
        "\n",
        "  # Removing the stop words\n",
        "  all_text_words = [word for word in words if word not in set(stopwords.words('english'))]\n",
        "\n",
        "  # Stemming the words\n",
        "  words = [ps.stem(word) for word in all_text_words]\n",
        "\n",
        "  # Joining the stemmed words\n",
        "  all_text = ' '.join(words)\n",
        "\n",
        "  # Creating a corpus\n",
        "  corpus.append(all_text)"
      ]
    },
    {
      "cell_type": "code",
      "execution_count": null,
      "id": "19c3d0f2",
      "metadata": {
        "id": "19c3d0f2",
        "outputId": "56b844e6-0052-474f-be3c-caeb31f66c06"
      },
      "outputs": [
        {
          "data": {
            "text/plain": [
              "5000"
            ]
          },
          "execution_count": 15,
          "metadata": {},
          "output_type": "execute_result"
        }
      ],
      "source": [
        "len(corpus)"
      ]
    },
    {
      "cell_type": "markdown",
      "id": "12f1a3c4",
      "metadata": {
        "id": "12f1a3c4"
      },
      "source": [
        "# COUNT VECTORIZER"
      ]
    },
    {
      "cell_type": "code",
      "execution_count": null,
      "id": "9a9bf9d2",
      "metadata": {
        "id": "9a9bf9d2"
      },
      "outputs": [],
      "source": [
        "# Creating the Bag of Words model\n",
        "from sklearn.feature_extraction.text import CountVectorizer\n",
        "cv = CountVectorizer(max_features=10000, ngram_range=(1,2))\n",
        "X = cv.fit_transform(corpus).toarray()"
      ]
    },
    {
      "cell_type": "code",
      "execution_count": null,
      "id": "11a711a3",
      "metadata": {
        "id": "11a711a3"
      },
      "outputs": [],
      "source": [
        "y = movies_train['genre'].values"
      ]
    },
    {
      "cell_type": "markdown",
      "id": "699e56f2",
      "metadata": {
        "id": "699e56f2"
      },
      "source": [
        "# MODEL BUILDING"
      ]
    },
    {
      "cell_type": "code",
      "execution_count": null,
      "id": "066ecca7",
      "metadata": {
        "colab": {
          "base_uri": "https://localhost:8080/",
          "height": 200
        },
        "id": "066ecca7",
        "outputId": "88db12ef-ab95-4ef6-a9c5-8fa270c78acf"
      },
      "outputs": [
        {
          "name": "stdout",
          "output_type": "stream",
          "text": [
            "X_train size: (4000, 10000), X_test size: (1000, 10000)\n"
          ]
        }
      ],
      "source": [
        "from sklearn.model_selection import train_test_split\n",
        "X_train, X_test, y_train, y_test = train_test_split(X, y, test_size=0.20, random_state=0)\n",
        "print('X_train size: {}, X_test size: {}'.format(X_train.shape, X_test.shape))"
      ]
    },
    {
      "cell_type": "code",
      "execution_count": null,
      "id": "f4baa731",
      "metadata": {
        "id": "f4baa731",
        "outputId": "cf3fc3e5-039e-4aff-930d-fe6935cb388e"
      },
      "outputs": [
        {
          "data": {
            "text/plain": [
              "MultinomialNB()"
            ]
          },
          "execution_count": 19,
          "metadata": {},
          "output_type": "execute_result"
        }
      ],
      "source": [
        "# Fitting Naive Bayes to the Training set\n",
        "from sklearn.naive_bayes import MultinomialNB\n",
        "nb_classifier = MultinomialNB()\n",
        "nb_classifier.fit(X_train, y_train)"
      ]
    },
    {
      "cell_type": "code",
      "execution_count": null,
      "id": "68b5b48d",
      "metadata": {
        "id": "68b5b48d"
      },
      "outputs": [],
      "source": [
        "# Predicting the Test set results\n",
        "nb_y_pred = nb_classifier.predict(X_test)"
      ]
    },
    {
      "cell_type": "markdown",
      "id": "7cb04d01",
      "metadata": {
        "id": "7cb04d01"
      },
      "source": [
        "# EVALUATE MULTINOMIAL NAIVE BAYES MODEL"
      ]
    },
    {
      "cell_type": "code",
      "execution_count": null,
      "id": "88cf601e",
      "metadata": {
        "id": "88cf601e",
        "outputId": "8b4e0508-0866-4608-b074-152e06a68996"
      },
      "outputs": [
        {
          "name": "stdout",
          "output_type": "stream",
          "text": [
            "---- Score ----\n",
            "Accuracy score is: 82.8%\n"
          ]
        }
      ],
      "source": [
        "# Calculating Accuracy\n",
        "from sklearn.metrics import accuracy_score\n",
        "score1 = accuracy_score(y_test, nb_y_pred)\n",
        "print(\"---- Score ----\")\n",
        "print(\"Accuracy score is: {}%\".format(round(score1*100,2)))"
      ]
    },
    {
      "cell_type": "code",
      "execution_count": null,
      "id": "de8ae46a",
      "metadata": {
        "id": "de8ae46a"
      },
      "outputs": [],
      "source": [
        "# Making the Confusion Matrix\n",
        "from sklearn.metrics import confusion_matrix\n",
        "nb_cm = confusion_matrix(y_test, nb_y_pred)"
      ]
    },
    {
      "cell_type": "code",
      "execution_count": null,
      "id": "c98c8cf3",
      "metadata": {
        "id": "c98c8cf3",
        "outputId": "a7afceef-ed4b-43e1-e3ab-2d273a16999a"
      },
      "outputs": [
        {
          "data": {
            "text/plain": [
              "array([[  6,   1,   0,   0,   3,   0,   0,   1,   1],\n",
              "       [  0, 118,   0,   3,   4,   0,   0,   0,   6],\n",
              "       [  0,   1,   6,   0,   0,   0,   0,   0,   0],\n",
              "       [  0,   3,   0,  95,   9,   2,   0,   1,  10],\n",
              "       [  0,   6,   0,   8, 311,   0,   0,   0,  44],\n",
              "       [  0,   0,   0,   0,   6,  10,   0,   0,   6],\n",
              "       [  0,   0,   0,   0,   1,   0,   0,   0,   0],\n",
              "       [  0,   2,   0,   1,   5,   0,   0,  18,   4],\n",
              "       [  0,   3,   0,   6,  29,   1,   0,   5, 264]], dtype=int64)"
            ]
          },
          "execution_count": 23,
          "metadata": {},
          "output_type": "execute_result"
        }
      ],
      "source": [
        "nb_cm"
      ]
    },
    {
      "cell_type": "code",
      "execution_count": null,
      "id": "c2fcaa98",
      "metadata": {
        "id": "c2fcaa98",
        "outputId": "24dc0c7e-660e-4f50-f843-b8fe9c88c979"
      },
      "outputs": [
        {
          "data": {
            "image/png": "[encoded data removed]",
            "text/plain": [
              "<Figure size 1080x864 with 2 Axes>"
            ]
          },
          "metadata": {
            "needs_background": "light"
          },
          "output_type": "display_data"
        }
      ],
      "source": [
        "# Plotting the confusion matrix\n",
        "plt.figure(figsize=(15,12))\n",
        "axis_labels = ['other', 'action', 'adventure', 'comedy', 'drama', 'horror', 'romance', 'sci-fi', 'thriller']\n",
        "sns.heatmap(data=nb_cm, annot=True, cmap=\"PuBuGn\", xticklabels=axis_labels, yticklabels=axis_labels)\n",
        "plt.xlabel('Predicted values')\n",
        "plt.ylabel('Actual values')\n",
        "plt.title('Confusion Matrix for Multinomial Naive Bayes Algorithm')\n",
        "plt.show()"
      ]
    },
    {
      "cell_type": "code",
      "execution_count": null,
      "id": "ea67e26f",
      "metadata": {
        "id": "ea67e26f",
        "outputId": "c99102f2-99f5-4d31-e4d2-641433aba821"
      },
      "outputs": [
        {
          "name": "stdout",
          "output_type": "stream",
          "text": [
            "Accuracy score for alpha=0.1 is: 85.6%\n",
            "Accuracy score for alpha=0.2 is: 85.3%\n",
            "Accuracy score for alpha=0.3 is: 85.0%\n",
            "Accuracy score for alpha=0.4 is: 84.9%\n",
            "Accuracy score for alpha=0.5 is: 84.1%\n",
            "Accuracy score for alpha=0.6 is: 83.8%\n",
            "Accuracy score for alpha=0.7 is: 83.7%\n",
            "Accuracy score for alpha=0.8 is: 83.4%\n",
            "Accuracy score for alpha=0.9 is: 83.1%\n",
            "Accuracy score for alpha=1.0 is: 82.8%\n",
            "--------------------------------------------\n",
            "The best accuracy is 85.6% with alpha value as 0.1\n"
          ]
        }
      ],
      "source": [
        "# Hyperparameter tuning the Naive Bayes Classifier\n",
        "best_accuracy = 0.0\n",
        "alpha_val = 0.0\n",
        "for i in np.arange(0.1,1.1,0.1):\n",
        "  temp_classifier = MultinomialNB(alpha=i)\n",
        "  temp_classifier.fit(X_train, y_train)\n",
        "  temp_y_pred = temp_classifier.predict(X_test)\n",
        "  score = accuracy_score(y_test, temp_y_pred)\n",
        "  print(\"Accuracy score for alpha={} is: {}%\".format(round(i,1), round(score*100,2)))\n",
        "  if score>best_accuracy:\n",
        "    best_accuracy = score\n",
        "    alpha_val = i\n",
        "print('--------------------------------------------')\n",
        "print('The best accuracy is {}% with alpha value as {}'.format(round(best_accuracy*100, 2), round(alpha_val,1)))"
      ]
    },
    {
      "cell_type": "code",
      "execution_count": null,
      "id": "65a22d65",
      "metadata": {
        "id": "65a22d65",
        "outputId": "0b50315b-3ee0-484b-8cdc-8225e855c308"
      },
      "outputs": [
        {
          "data": {
            "text/plain": [
              "MultinomialNB(alpha=0.1)"
            ]
          },
          "execution_count": 26,
          "metadata": {},
          "output_type": "execute_result"
        }
      ],
      "source": [
        "classifier = MultinomialNB(alpha=0.1)\n",
        "classifier.fit(X_train, y_train)"
      ]
    },
    {
      "cell_type": "markdown",
      "id": "fd9abc75",
      "metadata": {
        "id": "fd9abc75"
      },
      "source": [
        "# PREDICTION"
      ]
    },
    {
      "cell_type": "code",
      "execution_count": null,
      "id": "7b10ba74",
      "metadata": {
        "id": "7b10ba74"
      },
      "outputs": [],
      "source": [
        "def genre_prediction(test_script):\n",
        "  test_script = re.sub(pattern='[^a-zA-Z]',repl=' ', string = test_script)\n",
        "  test_script = test_script.lower()\n",
        "  test_script_words = test_script.split()\n",
        "  test_script_words = [word for word in test_script_words if not word in set(stopwords.words('english'))]\n",
        "  ps = PorterStemmer()\n",
        "  final_script = [ps.stem(word) for word in test_script_words]\n",
        "  final_script = ' '.join(final_script)\n",
        "\n",
        "  temp = cv.transform([final_script]).toarray()\n",
        "  return classifier.predict(temp)[0]"
      ]
    },
    {
      "cell_type": "code",
      "execution_count": null,
      "id": "5ee9b6a1",
      "metadata": {
        "id": "5ee9b6a1",
        "outputId": "5c618932-d080-4ddd-e832-07d8fdac50e6"
      },
      "outputs": [
        {
          "data": {
            "text/plain": [
              "Index(['id', 'text', 'genre'], dtype='object')"
            ]
          },
          "execution_count": 28,
          "metadata": {},
          "output_type": "execute_result"
        }
      ],
      "source": [
        "# Loading test dataset\n",
        "movies_test = df.tail(500)\n",
        "movies_test.columns"
      ]
    },
    {
      "cell_type": "code",
      "execution_count": null,
      "id": "87eede74",
      "metadata": {
        "id": "87eede74",
        "outputId": "4a8ab27b-b691-49f1-c028-696bd2366840"
      },
      "outputs": [
        {
          "data": {
            "text/plain": [
              "(500, 3)"
            ]
          },
          "execution_count": 29,
          "metadata": {},
          "output_type": "execute_result"
        }
      ],
      "source": [
        "movies_test.shape"
      ]
    },
    {
      "cell_type": "code",
      "execution_count": null,
      "id": "cc7cf534",
      "metadata": {
        "id": "cc7cf534",
        "outputId": "b055e42e-8a3e-4d21-da5e-64e9c535c7c4"
      },
      "outputs": [
        {
          "data": {
            "text/html": [
              "<div>\n",
              "<style scoped>\n",
              "    .dataframe tbody tr th:only-of-type {\n",
              "        vertical-align: middle;\n",
              "    }\n",
              "\n",
              "    .dataframe tbody tr th {\n",
              "        vertical-align: top;\n",
              "    }\n",
              "\n",
              "    .dataframe thead th {\n",
              "        text-align: right;\n",
              "    }\n",
              "</style>\n",
              "<table border=\"1\" class=\"dataframe\">\n",
              "  <thead>\n",
              "    <tr style=\"text-align: right;\">\n",
              "      <th></th>\n",
              "      <th>id</th>\n",
              "      <th>text</th>\n",
              "      <th>genre</th>\n",
              "    </tr>\n",
              "  </thead>\n",
              "  <tbody>\n",
              "    <tr>\n",
              "      <th>22079</th>\n",
              "      <td>27544</td>\n",
              "      <td>not going to happen unless you make it happen...</td>\n",
              "      <td>thriller</td>\n",
              "    </tr>\n",
              "    <tr>\n",
              "      <th>22080</th>\n",
              "      <td>27545</td>\n",
              "      <td>ing race off. EXT. UNDERWATER NIGHT The S.E.A....</td>\n",
              "      <td>thriller</td>\n",
              "    </tr>\n",
              "    <tr>\n",
              "      <th>22081</th>\n",
              "      <td>27547</td>\n",
              "      <td>support column head on. He and Sarah are slamm...</td>\n",
              "      <td>thriller</td>\n",
              "    </tr>\n",
              "    <tr>\n",
              "      <th>22082</th>\n",
              "      <td>27548</td>\n",
              "      <td>and BARBARA, two older neighbors of George's n...</td>\n",
              "      <td>drama</td>\n",
              "    </tr>\n",
              "    <tr>\n",
              "      <th>22083</th>\n",
              "      <td>27550</td>\n",
              "      <td>ing to slow it down. Victor rips the door open...</td>\n",
              "      <td>drama</td>\n",
              "    </tr>\n",
              "    <tr>\n",
              "      <th>...</th>\n",
              "      <td>...</td>\n",
              "      <td>...</td>\n",
              "      <td>...</td>\n",
              "    </tr>\n",
              "    <tr>\n",
              "      <th>22574</th>\n",
              "      <td>28161</td>\n",
              "      <td>n in the world to decide what I'm going to do ...</td>\n",
              "      <td>drama</td>\n",
              "    </tr>\n",
              "    <tr>\n",
              "      <th>22575</th>\n",
              "      <td>28162</td>\n",
              "      <td>shards. BOJO LAZ! Laz pushes Deke back through...</td>\n",
              "      <td>drama</td>\n",
              "    </tr>\n",
              "    <tr>\n",
              "      <th>22576</th>\n",
              "      <td>28163</td>\n",
              "      <td>OTTIE You've got a thing about Ernie's, haven'...</td>\n",
              "      <td>thriller</td>\n",
              "    </tr>\n",
              "    <tr>\n",
              "      <th>22577</th>\n",
              "      <td>28165</td>\n",
              "      <td>....with marked skill and dexterity . LANA wry...</td>\n",
              "      <td>action</td>\n",
              "    </tr>\n",
              "    <tr>\n",
              "      <th>22578</th>\n",
              "      <td>28166</td>\n",
              "      <td>rd walks off down the hallway, leaving his pos...</td>\n",
              "      <td>comedy</td>\n",
              "    </tr>\n",
              "  </tbody>\n",
              "</table>\n",
              "<p>500 rows × 3 columns</p>\n",
              "</div>"
            ],
            "text/plain": [
              "          id                                               text     genre\n",
              "22079  27544   not going to happen unless you make it happen...  thriller\n",
              "22080  27545  ing race off. EXT. UNDERWATER NIGHT The S.E.A....  thriller\n",
              "22081  27547  support column head on. He and Sarah are slamm...  thriller\n",
              "22082  27548  and BARBARA, two older neighbors of George's n...     drama\n",
              "22083  27550  ing to slow it down. Victor rips the door open...     drama\n",
              "...      ...                                                ...       ...\n",
              "22574  28161  n in the world to decide what I'm going to do ...     drama\n",
              "22575  28162  shards. BOJO LAZ! Laz pushes Deke back through...     drama\n",
              "22576  28163  OTTIE You've got a thing about Ernie's, haven'...  thriller\n",
              "22577  28165  ....with marked skill and dexterity . LANA wry...    action\n",
              "22578  28166  rd walks off down the hallway, leaving his pos...    comedy\n",
              "\n",
              "[500 rows x 3 columns]"
            ]
          },
          "execution_count": 30,
          "metadata": {},
          "output_type": "execute_result"
        }
      ],
      "source": [
        "movies_test"
      ]
    },
    {
      "cell_type": "markdown",
      "id": "aca05ef1",
      "metadata": {
        "id": "aca05ef1"
      },
      "source": [
        "## CORRECT PREDICTION"
      ]
    },
    {
      "cell_type": "code",
      "execution_count": null,
      "id": "3d4bd7c9",
      "metadata": {
        "id": "3d4bd7c9",
        "outputId": "c112b555-6ffb-46bd-9504-3548a7579c67"
      },
      "outputs": [
        {
          "name": "stdout",
          "output_type": "stream",
          "text": [
            "ID: 27544\n",
            "Script:  not going to happen unless you make it happen, my friend. You're going to have to assert yourself a little bit more. Show your affection. HIDER Yeah, maybe you're right. Everything else is just an excuse. I'm treating the situation with kid gloves because I'm afraid of losing her. THERAPIST Ask her how she feels. HIDER I should. THERAPIST You have to put yourself out there a bit more. HIDER Right. THERAPIST Because life isn't about playing it safe. Life is about taking risks. CUT TO INT. THE HOUSE MASTER BEDROOM NIGHT Phil is packing a suitcase. Julie has her arms folded and is looking grim. JULIE Boy, you really buckle under a little pressure, don't you? PHIL This is for the best, you know it is. slams a drawer Why do my socks keep disappearing! JULIE mimicking him Honey, I'm a zombie, I don't know whether I'm coming or going. CUT TO EXT. DRIVEWAY NIGHT Phil comes out of the house, followed by Julie. He stuffs his suitcase in his car. JULIE You're even sadder and more burnt out than \n",
            "Predicted Genre: thriller\n",
            "Actual Genre: thriller\n"
          ]
        }
      ],
      "source": [
        "# Predicting values (any number from 22079 to 22578)\n",
        "\n",
        "test_index = 22079\n",
        "\n",
        "test_script = movies_test.text[test_index]\n",
        "test_ID = movies_test.id[test_index]\n",
        "test_actual_genre = movies_test.genre[test_index]\n",
        "\n",
        "print('ID: {}'.format(test_ID))\n",
        "print('Script: {}'.format(test_script))\n",
        "value = genre_prediction(test_script)\n",
        "print('Predicted Genre: {}'.format(list(genre_mapper.keys())[value]))\n",
        "print('Actual Genre: {}'.format(test_actual_genre))"
      ]
    },
    {
      "cell_type": "code",
      "execution_count": null,
      "id": "2e6dacdf",
      "metadata": {
        "id": "2e6dacdf",
        "outputId": "24b5d2ed-636e-4610-882c-85eff76b382f",
        "scrolled": true
      },
      "outputs": [
        {
          "name": "stdout",
          "output_type": "stream",
          "text": [
            "ID: 27730\n",
            "Script: e over hanging branches...the Paraski is CATAPULTED into a tree and EXPLODES... EXT. WOODS CONTINUOUS Coming in to pick up the pursuit of Bond is Paraski 2, firing down at Bond, dropping bombs which explode just behind him in the snow. The other two paraskis LAND and eject their chutes, now RACING THROUGH THE WOODS on the ground. Bond looks behind him, sees them gaining...he zigzags through the trees and suckers Paraski 3 to glance off one tree, hit another and wipe out behind. But the remaining predator on the ground, Paraski 4, is gaining on him...Bond bursts out of the trees and finds himself heading toward... THE EDGE OF A PRECIPICE... He cranks himself right, narrowly avoiding a tumble over the edge. Paraski 4 isn t so lucky and SAILS OFF THE CLIFF to a hundred and fifty foot drop. BOND smiling Should have stuck to snowboarding. But the smile is wiped off his face as...AN EMERGENCY PARACHUTE deploys from the back... The Paraski does a climbing turn and heads straight back for him.\n",
            "Predicted Genre: thriller\n",
            "Actual Genre: thriller\n"
          ]
        }
      ],
      "source": [
        "# Predicting values (any number from 22079 to 22578)\n",
        "test_index = 22222\n",
        "\n",
        "test_script = movies_test.text[test_index]\n",
        "test_ID = movies_test.id[test_index]\n",
        "test_actual_genre = movies_test.genre[test_index]\n",
        "\n",
        "print('ID: {}'.format(test_ID))\n",
        "print('Script: {}'.format(test_script))\n",
        "value = genre_prediction(test_script)\n",
        "print('Predicted Genre: {}'.format(list(genre_mapper.keys())[value]))\n",
        "print('Actual Genre: {}'.format(test_actual_genre))"
      ]
    },
    {
      "cell_type": "markdown",
      "id": "b0263ce4",
      "metadata": {
        "id": "b0263ce4"
      },
      "source": [
        "## WRONG PREDICTION"
      ]
    },
    {
      "cell_type": "code",
      "execution_count": null,
      "id": "c39bd02f",
      "metadata": {
        "id": "c39bd02f",
        "outputId": "a51aacb9-31e3-4e6c-dae2-96b9742e108b"
      },
      "outputs": [
        {
          "name": "stdout",
          "output_type": "stream",
          "text": [
            "ID: 27603\n",
            "Script:  to the King Pin working on his nails. KING PIN Ow! Watch the pinkie! This isn't so bad. Jake almost has to stifle a laugh. KING PIN Every time, you get the pinkie and I get a hang nail. to Jake You Jake? Jake nods and the King motions for the manicurist to leave. KING PIN Grifter huh? Where have you been on the grift? Couldn't been here long 'cause I would have heard of you, Skippy. JAKE Jake. You can call me Jake. Here and there. KING PIN Here and there, Scooter? Here and there like Boston, Chicago, Houston? The bay area? Some action in London, 'til it turned nickel and dime. Or how about that little stint down in Miami? Heard you actually got into some trouble with the Feds down there. You guy's pretty good? JAKE I have a good crew. KING PIN Minus one. Jake visibly bristles... JAKE Minus one. KING PIN You know, back in the day, grafting was considered a gentleman's racket. Good suits, good food... The Underworld of the Underworld. A grifter had to survive on his wits, his instincts.\n",
            "Predicted Genre: drama\n",
            "Actual Genre: thriller\n"
          ]
        }
      ],
      "source": [
        "# Predicting values (any number from 22079 to 22578)\n",
        "test_index = 22124\n",
        "\n",
        "test_script = movies_test.text[test_index]\n",
        "test_ID = movies_test.id[test_index]\n",
        "test_actual_genre = movies_test.genre[test_index]\n",
        "\n",
        "print('ID: {}'.format(test_ID))\n",
        "print('Script: {}'.format(test_script))\n",
        "value = genre_prediction(test_script)\n",
        "print('Predicted Genre: {}'.format(list(genre_mapper.keys())[value]))\n",
        "print('Actual Genre: {}'.format(test_actual_genre))"
      ]
    },
    {
      "cell_type": "markdown",
      "id": "ff88b331",
      "metadata": {
        "id": "ff88b331"
      },
      "source": [
        "## PREDICTION WITH SCRIPT OUTSIDE FROM DATASET"
      ]
    },
    {
      "cell_type": "code",
      "execution_count": null,
      "id": "afddbaf8",
      "metadata": {
        "id": "afddbaf8",
        "outputId": "aeb25834-4d06-4b45-c7c0-bb86b60ec07f"
      },
      "outputs": [
        {
          "name": "stdout",
          "output_type": "stream",
          "text": [
            "Title: Titanic (outsourced from Google)\n",
            "Script: Another rocket goes off, lighting up the entire area... there are a dozen boats moving outward from the ship.207 AT THE BOAT DECK RAIL Captain Smith is shouting to Boat 6 through a large metal megaphone. SMITH Come back! Come back to the ship! CHIEF OFFICER WILDE joins him, blowing his silver whistle.208 FROM BOAT 6 the whistle comes shrilly across the water. Quartermaster Hitchins grips the rudder in fear.HITCHINS The suction will pull us right down if we don't keep going. MOLLY We got room for lots more. I say we go back. HITCHINS No! It's our lives now, not theirs. And I'm in charge of this boat! Now row!! 209 CAPTAIN SMITH, at the rail of the boat deck, lowers his megaphone slowly SMITH The fools.\n",
            "Predicted Genre: drama\n",
            "Actual Genre: drama\n"
          ]
        }
      ],
      "source": [
        "test_script = \"\"\"Another rocket goes off, lighting up the entire area... there are a dozen boats moving outward from the ship.207 AT THE BOAT DECK RAIL Captain Smith is shouting to Boat 6 through a large metal megaphone. SMITH Come back! Come back to the ship! CHIEF OFFICER WILDE joins him, blowing his silver whistle.208 FROM BOAT 6 the whistle comes shrilly across the water. Quartermaster Hitchins grips the rudder in fear.HITCHINS The suction will pull us right down if we don't keep going. MOLLY We got room for lots more. I say we go back. HITCHINS No! It's our lives now, not theirs. And I'm in charge of this boat! Now row!! 209 CAPTAIN SMITH, at the rail of the boat deck, lowers his megaphone slowly SMITH The fools.\"\"\"\n",
        "test_title = 'Titanic (outsourced from Google)'\n",
        "test_actual_genre = 'drama'\n",
        "\n",
        "print('Title: {}'.format(test_title))\n",
        "print('Script: {}'.format(test_script))\n",
        "value = genre_prediction(test_script)\n",
        "print('Predicted Genre: {}'.format(list(genre_mapper.keys())[value]))\n",
        "print('Actual Genre: {}'.format(test_actual_genre))"
      ]
    },
    {
      "cell_type": "code",
      "execution_count": null,
      "id": "2536f4db",
      "metadata": {
        "id": "2536f4db",
        "outputId": "58fec82c-0f45-4e55-adcf-2a036f5131f9"
      },
      "outputs": [
        {
          "name": "stdout",
          "output_type": "stream",
          "text": [
            "Title: Titanic (outsourced from Google)\n",
            "Script: ROSE I love you Jack.He takes her hand. JACK No... don't say your good-byes, Rose. Don't you give up. Don't do it. ROSE I'm so cold. JACK You're going to get out of this... you're going to go on and you're going to make babies and watch them grow and you're going to die an old lady, warm in your bed. Not here. Not this night. Do you understand me? ROSE I can't feel my body. JACK Rose, listen to me. Listen. Winning that ticket was the best thing that ever happened to me. Jack is having trouble getting the breath to speak. JACK It brought me to you. And I'm thankful, Rose. I'm thankful.\n",
            "Predicted Genre: drama\n",
            "Actual Genre: romance\n"
          ]
        }
      ],
      "source": [
        "test_script = \"\"\"ROSE I love you Jack.He takes her hand. JACK No... don't say your good-byes, Rose. Don't you give up. Don't do it. ROSE I'm so cold. JACK You're going to get out of this... you're going to go on and you're going to make babies and watch them grow and you're going to die an old lady, warm in your bed. Not here. Not this night. Do you understand me? ROSE I can't feel my body. JACK Rose, listen to me. Listen. Winning that ticket was the best thing that ever happened to me. Jack is having trouble getting the breath to speak. JACK It brought me to you. And I'm thankful, Rose. I'm thankful.\"\"\"\n",
        "test_title = 'Titanic (outsourced from Google)'\n",
        "test_actual_genre = 'romance'\n",
        "\n",
        "print('Title: {}'.format(test_title))\n",
        "print('Script: {}'.format(test_script))\n",
        "value = genre_prediction(test_script)\n",
        "print('Predicted Genre: {}'.format(list(genre_mapper.keys())[value]))\n",
        "print('Actual Genre: {}'.format(test_actual_genre))"
      ]
    },
    {
      "cell_type": "code",
      "execution_count": null,
      "id": "6da8bdb1",
      "metadata": {
        "id": "6da8bdb1"
      },
      "outputs": [],
      "source": []
    }
  ],
  "metadata": {
    "accelerator": "GPU",
    "colab": {
      "provenance": []
    },
    "kernelspec": {
      "display_name": "Python 3",
      "language": "python",
      "name": "python3"
    },
    "language_info": {
      "codemirror_mode": {
        "name": "ipython",
        "version": 3
      },
      "file_extension": ".py",
      "mimetype": "text/x-python",
      "name": "python",
      "nbconvert_exporter": "python",
      "pygments_lexer": "ipython3",
      "version": "3.8.8"
    }
  },
  "nbformat": 4,
  "nbformat_minor": 5
}
